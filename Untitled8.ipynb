{
  "nbformat": 4,
  "nbformat_minor": 0,
  "metadata": {
    "colab": {
      "name": "Untitled8.ipynb",
      "provenance": [],
      "collapsed_sections": []
    },
    "kernelspec": {
      "name": "python3",
      "display_name": "Python 3"
    },
    "language_info": {
      "name": "python"
    }
  },
  "cells": [
    {
      "cell_type": "code",
      "metadata": {
        "colab": {
          "base_uri": "https://localhost:8080/"
        },
        "id": "wlaZTrISzcir",
        "outputId": "b7666e04-2219-408d-ff27-b7be5fc17ac8"
      },
      "source": [
        " \n",
        "import time\n",
        "  \n",
        "# define the countdown func.\n",
        "def countdown(t):\n",
        "    \n",
        "    while t>0 :\n",
        "        mins, secs = divmod(t, 60)\n",
        "        timer = '{:02d}:{:02d}'.format(mins, secs)\n",
        "        print(timer, end=\"\\r\")\n",
        "        time.sleep(1)\n",
        "        t -= 1\n",
        "      \n",
        "    print('Fire in the hole!!')\n",
        "  \n",
        "  \n",
        "# input time in seconds\n",
        "t = input(\"Enter the time in seconds: \")\n",
        "  \n",
        "# function call\n",
        "countdown(int(t))"
      ],
      "execution_count": null,
      "outputs": [
        {
          "output_type": "stream",
          "text": [
            "Enter the time in seconds: 5587\n"
          ],
          "name": "stdout"
        }
      ]
    }
  ]
}